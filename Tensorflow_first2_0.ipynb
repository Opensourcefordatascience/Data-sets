{
  "nbformat": 4,
  "nbformat_minor": 0,
  "metadata": {
    "colab": {
      "name": "Tensorflow_first2.0.ipynb",
      "provenance": [],
      "include_colab_link": true
    },
    "kernelspec": {
      "name": "python3",
      "display_name": "Python 3"
    },
    "accelerator": "GPU"
  },
  "cells": [
    {
      "cell_type": "markdown",
      "metadata": {
        "id": "view-in-github",
        "colab_type": "text"
      },
      "source": [
        "<a href=\"https://colab.research.google.com/github/santoshkumarbvp/Data-sets/blob/master/Tensorflow_first2_0.ipynb\" target=\"_parent\"><img src=\"https://colab.research.google.com/assets/colab-badge.svg\" alt=\"Open In Colab\"/></a>"
      ]
    },
    {
      "cell_type": "code",
      "metadata": {
        "id": "v5DteN2ICuSK",
        "colab_type": "code",
        "colab": {}
      },
      "source": [
        "import tensorflow as tf\n",
        "import numpy as np"
      ],
      "execution_count": 0,
      "outputs": []
    },
    {
      "cell_type": "code",
      "metadata": {
        "id": "2QU0W5EulNIa",
        "colab_type": "code",
        "colab": {}
      },
      "source": [
        "total_observation = 1000"
      ],
      "execution_count": 0,
      "outputs": []
    },
    {
      "cell_type": "code",
      "metadata": {
        "id": "wyjbsPQuk1tY",
        "colab_type": "code",
        "colab": {
          "base_uri": "https://localhost:8080/",
          "height": 34
        },
        "outputId": "3904d2bb-2a4e-4860-f697-5c0bbe60e8e5"
      },
      "source": [
        "x1 = np.random.uniform(-10,10,(total_observation,1))\n",
        "x2 = np.random.uniform(-10,10,(total_observation,1))\n",
        "inputs = np.column_stack((x1,x2))\n",
        "noise = np.random.uniform(-1,1,(total_observation,1))\n",
        "target = 5*x1 - 4*x2 +11 + noise\n",
        "target.shape"
      ],
      "execution_count": 10,
      "outputs": [
        {
          "output_type": "execute_result",
          "data": {
            "text/plain": [
              "(1000, 1)"
            ]
          },
          "metadata": {
            "tags": []
          },
          "execution_count": 10
        }
      ]
    },
    {
      "cell_type": "code",
      "metadata": {
        "id": "QT5nZVYcnwTD",
        "colab_type": "code",
        "colab": {
          "base_uri": "https://localhost:8080/",
          "height": 1000
        },
        "outputId": "44e0a0be-8009-4b14-f57a-e85390cf9fb8"
      },
      "source": [
        "input_size = 2\n",
        "output_size =1\n",
        "\n",
        "model = tf.keras.Sequential([tf.keras.layers.Dense(output_size)])\n",
        "model.compile(optimizer='sgd',loss='mean_squared_error')\n",
        "model.fit(inputs,target,epochs=100,verbose=1)"
      ],
      "execution_count": 19,
      "outputs": [
        {
          "output_type": "stream",
          "text": [
            "Epoch 1/100\n",
            "1000/1000 [==============================] - 0s 170us/sample - loss: 638.3898\n",
            "Epoch 2/100\n",
            "1000/1000 [==============================] - 0s 89us/sample - loss: 108.2602\n",
            "Epoch 3/100\n",
            "1000/1000 [==============================] - 0s 90us/sample - loss: 89.0547\n",
            "Epoch 4/100\n",
            "1000/1000 [==============================] - 0s 92us/sample - loss: 78.5031\n",
            "Epoch 5/100\n",
            "1000/1000 [==============================] - 0s 88us/sample - loss: 68.9571\n",
            "Epoch 6/100\n",
            "1000/1000 [==============================] - 0s 107us/sample - loss: 60.6773\n",
            "Epoch 7/100\n",
            "1000/1000 [==============================] - 0s 103us/sample - loss: 53.4268\n",
            "Epoch 8/100\n",
            "1000/1000 [==============================] - 0s 119us/sample - loss: 47.0842\n",
            "Epoch 9/100\n",
            "1000/1000 [==============================] - 0s 105us/sample - loss: 41.5131\n",
            "Epoch 10/100\n",
            "1000/1000 [==============================] - 0s 103us/sample - loss: 36.5585\n",
            "Epoch 11/100\n",
            "1000/1000 [==============================] - 0s 92us/sample - loss: 32.1290\n",
            "Epoch 12/100\n",
            "1000/1000 [==============================] - 0s 119us/sample - loss: 28.3390\n",
            "Epoch 13/100\n",
            "1000/1000 [==============================] - 0s 95us/sample - loss: 24.9303\n",
            "Epoch 14/100\n",
            "1000/1000 [==============================] - 0s 94us/sample - loss: 22.0092\n",
            "Epoch 15/100\n",
            "1000/1000 [==============================] - 0s 92us/sample - loss: 19.3990\n",
            "Epoch 16/100\n",
            "1000/1000 [==============================] - 0s 93us/sample - loss: 17.1194\n",
            "Epoch 17/100\n",
            "1000/1000 [==============================] - 0s 93us/sample - loss: 15.0909\n",
            "Epoch 18/100\n",
            "1000/1000 [==============================] - 0s 97us/sample - loss: 13.3116\n",
            "Epoch 19/100\n",
            "1000/1000 [==============================] - 0s 91us/sample - loss: 11.7723\n",
            "Epoch 20/100\n",
            "1000/1000 [==============================] - 0s 90us/sample - loss: 10.3730\n",
            "Epoch 21/100\n",
            "1000/1000 [==============================] - 0s 90us/sample - loss: 9.2043\n",
            "Epoch 22/100\n",
            "1000/1000 [==============================] - 0s 115us/sample - loss: 8.1106\n",
            "Epoch 23/100\n",
            "1000/1000 [==============================] - 0s 93us/sample - loss: 7.1678\n",
            "Epoch 24/100\n",
            "1000/1000 [==============================] - 0s 92us/sample - loss: 6.3583\n",
            "Epoch 25/100\n",
            "1000/1000 [==============================] - 0s 98us/sample - loss: 5.6326\n",
            "Epoch 26/100\n",
            "1000/1000 [==============================] - 0s 94us/sample - loss: 5.0022\n",
            "Epoch 27/100\n",
            "1000/1000 [==============================] - 0s 119us/sample - loss: 4.4398\n",
            "Epoch 28/100\n",
            "1000/1000 [==============================] - 0s 96us/sample - loss: 3.9343\n",
            "Epoch 29/100\n",
            "1000/1000 [==============================] - 0s 94us/sample - loss: 3.5151\n",
            "Epoch 30/100\n",
            "1000/1000 [==============================] - 0s 103us/sample - loss: 3.1293\n",
            "Epoch 31/100\n",
            "1000/1000 [==============================] - 0s 85us/sample - loss: 2.7910\n",
            "Epoch 32/100\n",
            "1000/1000 [==============================] - 0s 100us/sample - loss: 2.5015\n",
            "Epoch 33/100\n",
            "1000/1000 [==============================] - 0s 100us/sample - loss: 2.2421\n",
            "Epoch 34/100\n",
            "1000/1000 [==============================] - 0s 94us/sample - loss: 2.0129\n",
            "Epoch 35/100\n",
            "1000/1000 [==============================] - 0s 87us/sample - loss: 1.8095\n",
            "Epoch 36/100\n",
            "1000/1000 [==============================] - 0s 90us/sample - loss: 1.6311\n",
            "Epoch 37/100\n",
            "1000/1000 [==============================] - 0s 101us/sample - loss: 1.4781\n",
            "Epoch 38/100\n",
            "1000/1000 [==============================] - 0s 109us/sample - loss: 1.3394\n",
            "Epoch 39/100\n",
            "1000/1000 [==============================] - 0s 103us/sample - loss: 1.2215\n",
            "Epoch 40/100\n",
            "1000/1000 [==============================] - 0s 107us/sample - loss: 1.1114\n",
            "Epoch 41/100\n",
            "1000/1000 [==============================] - 0s 92us/sample - loss: 1.0198\n",
            "Epoch 42/100\n",
            "1000/1000 [==============================] - 0s 88us/sample - loss: 0.9379\n",
            "Epoch 43/100\n",
            "1000/1000 [==============================] - 0s 114us/sample - loss: 0.8650\n",
            "Epoch 44/100\n",
            "1000/1000 [==============================] - 0s 115us/sample - loss: 0.8022\n",
            "Epoch 45/100\n",
            "1000/1000 [==============================] - 0s 107us/sample - loss: 0.7472\n",
            "Epoch 46/100\n",
            "1000/1000 [==============================] - 0s 102us/sample - loss: 0.6962\n",
            "Epoch 47/100\n",
            "1000/1000 [==============================] - 0s 105us/sample - loss: 0.6520\n",
            "Epoch 48/100\n",
            "1000/1000 [==============================] - 0s 94us/sample - loss: 0.6147\n",
            "Epoch 49/100\n",
            "1000/1000 [==============================] - 0s 96us/sample - loss: 0.5812\n",
            "Epoch 50/100\n",
            "1000/1000 [==============================] - 0s 93us/sample - loss: 0.5511\n",
            "Epoch 51/100\n",
            "1000/1000 [==============================] - 0s 93us/sample - loss: 0.5255\n",
            "Epoch 52/100\n",
            "1000/1000 [==============================] - 0s 90us/sample - loss: 0.5016\n",
            "Epoch 53/100\n",
            "1000/1000 [==============================] - 0s 99us/sample - loss: 0.4817\n",
            "Epoch 54/100\n",
            "1000/1000 [==============================] - 0s 88us/sample - loss: 0.4643\n",
            "Epoch 55/100\n",
            "1000/1000 [==============================] - 0s 94us/sample - loss: 0.4485\n",
            "Epoch 56/100\n",
            "1000/1000 [==============================] - 0s 90us/sample - loss: 0.4349\n",
            "Epoch 57/100\n",
            "1000/1000 [==============================] - 0s 93us/sample - loss: 0.4224\n",
            "Epoch 58/100\n",
            "1000/1000 [==============================] - 0s 100us/sample - loss: 0.4115\n",
            "Epoch 59/100\n",
            "1000/1000 [==============================] - 0s 94us/sample - loss: 0.4026\n",
            "Epoch 60/100\n",
            "1000/1000 [==============================] - 0s 98us/sample - loss: 0.3944\n",
            "Epoch 61/100\n",
            "1000/1000 [==============================] - 0s 91us/sample - loss: 0.3869\n",
            "Epoch 62/100\n",
            "1000/1000 [==============================] - 0s 89us/sample - loss: 0.3805\n",
            "Epoch 63/100\n",
            "1000/1000 [==============================] - 0s 96us/sample - loss: 0.3752\n",
            "Epoch 64/100\n",
            "1000/1000 [==============================] - 0s 96us/sample - loss: 0.3705\n",
            "Epoch 65/100\n",
            "1000/1000 [==============================] - 0s 93us/sample - loss: 0.3660\n",
            "Epoch 66/100\n",
            "1000/1000 [==============================] - 0s 87us/sample - loss: 0.3619\n",
            "Epoch 67/100\n",
            "1000/1000 [==============================] - 0s 91us/sample - loss: 0.3591\n",
            "Epoch 68/100\n",
            "1000/1000 [==============================] - 0s 92us/sample - loss: 0.3555\n",
            "Epoch 69/100\n",
            "1000/1000 [==============================] - 0s 96us/sample - loss: 0.3532\n",
            "Epoch 70/100\n",
            "1000/1000 [==============================] - 0s 100us/sample - loss: 0.3505\n",
            "Epoch 71/100\n",
            "1000/1000 [==============================] - 0s 104us/sample - loss: 0.3487\n",
            "Epoch 72/100\n",
            "1000/1000 [==============================] - 0s 104us/sample - loss: 0.3466\n",
            "Epoch 73/100\n",
            "1000/1000 [==============================] - 0s 96us/sample - loss: 0.3454\n",
            "Epoch 74/100\n",
            "1000/1000 [==============================] - 0s 98us/sample - loss: 0.3438\n",
            "Epoch 75/100\n",
            "1000/1000 [==============================] - 0s 97us/sample - loss: 0.3428\n",
            "Epoch 76/100\n",
            "1000/1000 [==============================] - 0s 97us/sample - loss: 0.3415\n",
            "Epoch 77/100\n",
            "1000/1000 [==============================] - 0s 97us/sample - loss: 0.3406\n",
            "Epoch 78/100\n",
            "1000/1000 [==============================] - 0s 96us/sample - loss: 0.3409\n",
            "Epoch 79/100\n",
            "1000/1000 [==============================] - 0s 92us/sample - loss: 0.3390\n",
            "Epoch 80/100\n",
            "1000/1000 [==============================] - 0s 105us/sample - loss: 0.3387\n",
            "Epoch 81/100\n",
            "1000/1000 [==============================] - 0s 100us/sample - loss: 0.3380\n",
            "Epoch 82/100\n",
            "1000/1000 [==============================] - 0s 89us/sample - loss: 0.3374\n",
            "Epoch 83/100\n",
            "1000/1000 [==============================] - 0s 93us/sample - loss: 0.3369\n",
            "Epoch 84/100\n",
            "1000/1000 [==============================] - 0s 103us/sample - loss: 0.3370\n",
            "Epoch 85/100\n",
            "1000/1000 [==============================] - 0s 102us/sample - loss: 0.3363\n",
            "Epoch 86/100\n",
            "1000/1000 [==============================] - 0s 94us/sample - loss: 0.3363\n",
            "Epoch 87/100\n",
            "1000/1000 [==============================] - 0s 100us/sample - loss: 0.3360\n",
            "Epoch 88/100\n",
            "1000/1000 [==============================] - 0s 92us/sample - loss: 0.3359\n",
            "Epoch 89/100\n",
            "1000/1000 [==============================] - 0s 93us/sample - loss: 0.3357\n",
            "Epoch 90/100\n",
            "1000/1000 [==============================] - 0s 89us/sample - loss: 0.3355\n",
            "Epoch 91/100\n",
            "1000/1000 [==============================] - 0s 105us/sample - loss: 0.3347\n",
            "Epoch 92/100\n",
            "1000/1000 [==============================] - 0s 113us/sample - loss: 0.3347\n",
            "Epoch 93/100\n",
            "1000/1000 [==============================] - 0s 97us/sample - loss: 0.3345\n",
            "Epoch 94/100\n",
            "1000/1000 [==============================] - 0s 93us/sample - loss: 0.3346\n",
            "Epoch 95/100\n",
            "1000/1000 [==============================] - 0s 97us/sample - loss: 0.3350\n",
            "Epoch 96/100\n",
            "1000/1000 [==============================] - 0s 89us/sample - loss: 0.3347\n",
            "Epoch 97/100\n",
            "1000/1000 [==============================] - 0s 88us/sample - loss: 0.3345\n",
            "Epoch 98/100\n",
            "1000/1000 [==============================] - 0s 93us/sample - loss: 0.3344\n",
            "Epoch 99/100\n",
            "1000/1000 [==============================] - 0s 92us/sample - loss: 0.3344\n",
            "Epoch 100/100\n",
            "1000/1000 [==============================] - 0s 92us/sample - loss: 0.3343\n"
          ],
          "name": "stdout"
        },
        {
          "output_type": "execute_result",
          "data": {
            "text/plain": [
              "<tensorflow.python.keras.callbacks.History at 0x7f89dcceb390>"
            ]
          },
          "metadata": {
            "tags": []
          },
          "execution_count": 19
        }
      ]
    },
    {
      "cell_type": "code",
      "metadata": {
        "id": "Fac9v6vfu3Kg",
        "colab_type": "code",
        "colab": {
          "base_uri": "https://localhost:8080/",
          "height": 50
        },
        "outputId": "c3f92ec3-b689-422e-ce2a-7f50babdb132"
      },
      "source": [
        "model.layers[0].get_weights()"
      ],
      "execution_count": 20,
      "outputs": [
        {
          "output_type": "execute_result",
          "data": {
            "text/plain": [
              "[array([[ 4.998238],\n",
              "        [-4.003064]], dtype=float32), array([10.975578], dtype=float32)]"
            ]
          },
          "metadata": {
            "tags": []
          },
          "execution_count": 20
        }
      ]
    },
    {
      "cell_type": "code",
      "metadata": {
        "id": "L_MdT1Upu-3v",
        "colab_type": "code",
        "colab": {
          "base_uri": "https://localhost:8080/",
          "height": 50
        },
        "outputId": "c1b5b9f2-0de0-4f3c-a7b5-e9f885393fb9"
      },
      "source": [
        "model.predict_on_batch(a)"
      ],
      "execution_count": 56,
      "outputs": [
        {
          "output_type": "execute_result",
          "data": {
            "text/plain": [
              "array([[ 7.967688],\n",
              "       [16.96899 ]], dtype=float32)"
            ]
          },
          "metadata": {
            "tags": []
          },
          "execution_count": 56
        }
      ]
    }
  ]
}